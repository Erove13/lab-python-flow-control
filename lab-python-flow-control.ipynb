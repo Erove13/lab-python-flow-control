{
 "cells": [
  {
   "cell_type": "markdown",
   "id": "d3bfc191-8885-42ee-b0a0-bbab867c6f9f",
   "metadata": {
    "tags": []
   },
   "source": [
    "# Lab | Flow Control"
   ]
  },
  {
   "cell_type": "markdown",
   "id": "3851fcd1-cf98-4653-9c89-e003b7ec9400",
   "metadata": {},
   "source": [
    "## Exercise: Managing Customer Orders Optimized\n",
    "\n",
    "In the last lab, you were starting an online store that sells various products. To ensure smooth operations, you developed a program that manages customer orders and inventory.\n",
    "\n",
    "You did so without using flow control. Let's go a step further and improve this code.\n",
    "\n",
    "Follow the steps below to complete the exercise:\n",
    "\n",
    "1. Look at your code from the lab data structures, and improve repeated code with loops.\n",
    "\n",
    "2. Instead of asking the user to input the name of three products that a customer wants to order, do the following:\n",
    "    \n",
    "    a. Prompt the user to enter the name of a product that a customer wants to order.\n",
    "    \n",
    "    b. Add the product name to the \"customer_orders\" set.\n",
    "    \n",
    "    c. Ask the user if they want to add another product (yes/no).\n",
    "    \n",
    "    d. Continue the loop until the user does not want to add another product.\n",
    "\n",
    "3. Instead of updating the inventory by subtracting 1 from the quantity of each product, only do it for  the products that were ordered (those in \"customer_orders\")."
   ]
  },
  {
   "cell_type": "markdown",
   "id": "5a4620af",
   "metadata": {},
   "source": [
    "1. Look at your code from the lab data structures, and improve repeated code with loops."
   ]
  },
  {
   "cell_type": "code",
   "execution_count": 60,
   "id": "139a8d6e",
   "metadata": {},
   "outputs": [],
   "source": [
    "products = [\"t-shirt\", \"mug\", \"hat\", \"book\", \"keychain\"]\n",
    "products\n",
    "inventory = {}"
   ]
  },
  {
   "cell_type": "code",
   "execution_count": 61,
   "id": "b572ec40",
   "metadata": {},
   "outputs": [
    {
     "name": "stdout",
     "output_type": "stream",
     "text": [
      "{'t-shirt': 5, 'mug': 6, 'hat': 8, 'book': 9, 'keychain': 1}\n"
     ]
    }
   ],
   "source": [
    "for product in products:\n",
    "    user_quantity = int(input(f\"Introduce the quantity of {product}:\"))\n",
    "    inventory[product] = user_quantity\n",
    "\n",
    "print(inventory)"
   ]
  },
  {
   "cell_type": "code",
   "execution_count": 62,
   "id": "f08b35ab",
   "metadata": {},
   "outputs": [],
   "source": [
    "customer_orders = set()"
   ]
  },
  {
   "cell_type": "code",
   "execution_count": 63,
   "id": "09d0f994",
   "metadata": {},
   "outputs": [],
   "source": [
    "for orders in range(3):\n",
    "    user_add = input(f'Introduce the name of product {orders} that you want tu add').strip().lower()\n",
    "    if product in products:\n",
    "        customer_orders.add(user_add)\n",
    "    else:\n",
    "        print('This producto is not available. Please choose other from the list.')\n"
   ]
  },
  {
   "cell_type": "code",
   "execution_count": 64,
   "id": "380343d7",
   "metadata": {},
   "outputs": [
    {
     "name": "stdout",
     "output_type": "stream",
     "text": [
      "{'mug', 'book', 'hat'}\n"
     ]
    }
   ],
   "source": [
    "print(customer_orders)"
   ]
  },
  {
   "cell_type": "code",
   "execution_count": 65,
   "id": "425e2834",
   "metadata": {},
   "outputs": [
    {
     "name": "stdout",
     "output_type": "stream",
     "text": [
      "{'t-shirt': 5, 'mug': 6, 'hat': 8, 'book': 9, 'keychain': 1}\n",
      "{'t-shirt': 4, 'mug': 5, 'hat': 7, 'book': 8, 'keychain': 0}\n"
     ]
    }
   ],
   "source": [
    "#intitial inventory\n",
    "print(inventory)\n",
    "\n",
    "for product in inventory:\n",
    "    inventory[product] -= 1\n",
    "\n",
    "print(inventory)"
   ]
  },
  {
   "cell_type": "markdown",
   "id": "ffb47fdb",
   "metadata": {},
   "source": [
    "2. Instead of asking the user to input the name of three products that a customer wants to order, do the following:"
   ]
  },
  {
   "cell_type": "markdown",
   "id": "e915705f",
   "metadata": {},
   "source": [
    "    a. Prompt the user to enter the name of a product that a customer wants to order.\n",
    "    b. Add the product name to the \"customer_orders\" set.\n",
    "    c. Ask the user if they want to add another product (yes/no).\n",
    "    d. Continue the loop until the user does not want to add another product.\n",
    "\n"
   ]
  },
  {
   "cell_type": "code",
   "execution_count": 66,
   "id": "67009efd",
   "metadata": {},
   "outputs": [],
   "source": [
    "while True:\n",
    "    user_new_product = input('Please enter a name of a product')\n",
    "    customer_orders.add(user_new_product)\n",
    "    answer_user = input('Do you want to add a new prouct? (Y/N)').upper()\n",
    "    if answer_user != \"Y\":\n",
    "        break"
   ]
  },
  {
   "cell_type": "code",
   "execution_count": 67,
   "id": "564f4a46",
   "metadata": {},
   "outputs": [
    {
     "name": "stdout",
     "output_type": "stream",
     "text": [
      "{'hat', 'paper', 'mug', 'phone', 'book', 'car'}\n"
     ]
    }
   ],
   "source": [
    "print(customer_orders)"
   ]
  },
  {
   "cell_type": "markdown",
   "id": "fec045fd",
   "metadata": {},
   "source": [
    "3. Instead of updating the inventory by subtracting 1 from the quantity of each product, only do it for  the products that were ordered (those in \"customer_orders\")."
   ]
  },
  {
   "cell_type": "code",
   "execution_count": 69,
   "id": "a87c016a",
   "metadata": {},
   "outputs": [
    {
     "name": "stdout",
     "output_type": "stream",
     "text": [
      "{'t-shirt': 4, 'mug': 4, 'hat': 6, 'book': 7, 'keychain': 0}\n",
      "{'t-shirt': 3, 'mug': 3, 'hat': 6, 'book': 6, 'keychain': 0}\n"
     ]
    }
   ],
   "source": [
    "# Initial inventory\n",
    "print(inventory)\n",
    "\n",
    "# Get customer orders\n",
    "customer_orders = set()\n",
    "for orders in range(3):\n",
    "    user_answer_input = input('Introduce the name of product that you want to add').strip().lower()\n",
    "    if user_answer_input in inventory:\n",
    "        customer_orders.add(user_answer_input)\n",
    "    else:\n",
    "        print('This product is not available. Please choose another from the list.')\n",
    "\n",
    "# Update inventory only for ordered products\n",
    "for product in customer_orders:\n",
    "    inventory[product] -= 1\n",
    "\n",
    "print(inventory)"
   ]
  }
 ],
 "metadata": {
  "kernelspec": {
   "display_name": "Python 3 (ipykernel)",
   "language": "python",
   "name": "python3"
  },
  "language_info": {
   "codemirror_mode": {
    "name": "ipython",
    "version": 3
   },
   "file_extension": ".py",
   "mimetype": "text/x-python",
   "name": "python",
   "nbconvert_exporter": "python",
   "pygments_lexer": "ipython3",
   "version": "3.12.1"
  }
 },
 "nbformat": 4,
 "nbformat_minor": 5
}
